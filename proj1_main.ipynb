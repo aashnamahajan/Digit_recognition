{
 "cells": [
  {
   "cell_type": "markdown",
   "metadata": {},
   "source": [
    "Discriminant Analysis to recognize the digits in the MNIST data set"
   ]
  },
  {
   "cell_type": "code",
   "execution_count": null,
   "metadata": {},
   "outputs": [],
   "source": [
    "def load_mnist(path, kind='train'):\n",
    "    import os\n",
    "    import gzip\n",
    "    import numpy as np\n",
    "\n",
    "    \"\"\"Load MNIST data from `path`\"\"\"\n",
    "    labels_path = os.path.join(path,\n",
    "                               '%s-labels-idx1-ubyte.gz'\n",
    "                               % kind)\n",
    "    images_path = os.path.join(path,\n",
    "                               '%s-images-idx3-ubyte.gz'\n",
    "                               % kind)\n",
    "\n",
    "    with gzip.open(labels_path, 'rb') as lbpath:\n",
    "        labels = np.frombuffer(lbpath.read(), dtype=np.uint8,\n",
    "                               offset=8)\n",
    "\n",
    "    with gzip.open(images_path, 'rb') as imgpath:\n",
    "        images = np.frombuffer(imgpath.read(), dtype=np.uint8,\n",
    "                               offset=16).reshape(len(labels), 28, 28)\n",
    "\n",
    "    return images, labels\n"
   ]
  },
  {
   "cell_type": "code",
   "execution_count": null,
   "metadata": {},
   "outputs": [],
   "source": [
    "#Imports\n",
    "import numpy as np\n",
    "import matplotlib.pyplot as plt\n",
    "from tqdm import tqdm\n",
    "from sklearn.metrics import confusion_matrix\n",
    "\n",
    "\n",
    "#loading the data\n",
    "X_train, y_train = load_mnist('data', kind='train')\n",
    "X_test, y_test = load_mnist('data', kind='t10k')\n",
    "\n",
    "#creating a dictionary with [0-9 as keys] and corresponding X_train data as values\n",
    "digit_data={}\n",
    "for i in range(y_train.shape[0]):\n",
    "    if y_train[i] in digit_data:\n",
    "        digit_data[y_train[i]].append(X_train[i, :, :])\n",
    "    else:\n",
    "        digit_data[y_train[i]]=[X_train[i, :, :]]\n",
    "        \n",
    "        \n"
   ]
  },
  {
   "cell_type": "code",
   "execution_count": null,
   "metadata": {},
   "outputs": [],
   "source": [
    "#finding mean and standard deviation of the digits\n",
    "mean_dict={}\n",
    "std_dict={}\n",
    "for i in digit_data:\n",
    "    mean_dict[i] = np.mean(digit_data[i],axis=0)\n",
    "    std_dict[i] = np.std(digit_data[i], axis=0)\n",
    "    "
   ]
  },
  {
   "cell_type": "code",
   "execution_count": null,
   "metadata": {},
   "outputs": [],
   "source": [
    "#plotting Mean digits and Standard deviation digits\n",
    "for i in range(10):\n",
    "    fig, ax = plt.subplots(1,2)\n",
    "\n",
    "    ax[0].title.set_text('Mean Digits of '+ str(i))\n",
    "    ax[1].title.set_text('Standard Deviation Digits of '+ str(i))\n",
    "    ax[0].imshow(mean_dict[i])\n",
    "    ax[1].imshow(std_dict[i],cmap=\"gray\")"
   ]
  },
  {
   "cell_type": "code",
   "execution_count": null,
   "metadata": {},
   "outputs": [],
   "source": [
    "#calculating w for Quadratic Discriminant Analysis\n",
    "w={}\n",
    "tmp_dict={}\n",
    "for i in range(10):\n",
    "    std_dict[i] = std_dict[i].flatten()\n",
    "    tmp = np.zeros((len(std_dict[i]), len(std_dict[i])))\n",
    "\n",
    "    for j in range(len(std_dict[i])):\n",
    "        tmp[j][j] = (std_dict[i][j] ** 2) \n",
    "        np.fill_diagonal(tmp,tmp.diagonal()+0.1) #Adding noise to avoid Singular Matrix error\n",
    "    tmp_dict[i]=tmp\n",
    "    w[i] = -0.5 * np.linalg.inv(tmp)              #linalg.inv calculates the multiplicative inverse of the matrix\n"
   ]
  },
  {
   "cell_type": "code",
   "execution_count": null,
   "metadata": {},
   "outputs": [],
   "source": [
    "#calculating n for Quadratic Discriminant Analysis\n",
    "n={}\n",
    "for i in range(10):\n",
    "    mean_dict[i] = mean_dict[i].flatten()\n",
    "    n[i] = np.matmul( np.linalg.inv(tmp_dict[i]) , mean_dict[i])\n",
    "print(n)"
   ]
  },
  {
   "cell_type": "code",
   "execution_count": null,
   "metadata": {},
   "outputs": [],
   "source": [
    "#calculating b for Quadratic Discriminant Analysis\n",
    "b={}\n",
    "for i in range(10):\n",
    "    b[i] = -0.5 * (np.matmul(np.matmul(np.transpose(mean_dict[i]),np.linalg.inv(tmp_dict[i])) , mean_dict[i]))\n",
    "    \n",
    "    b[i] = b[i] - ((0.5)*(np.linalg.slogdet(tmp_dict[i]))[1])\n",
    "print(b)\n"
   ]
  },
  {
   "cell_type": "code",
   "execution_count": null,
   "metadata": {},
   "outputs": [],
   "source": [
    "print(b)"
   ]
  },
  {
   "cell_type": "code",
   "execution_count": null,
   "metadata": {},
   "outputs": [],
   "source": [
    "def find_accuracy(actual, predicted):\n",
    "        ctr = 0\n",
    "        for i in range(len(actual)):\n",
    "            if predicted[i] == actual[i]:\n",
    "                ctr += 1\n",
    "\n",
    "        return ctr / len(actual)\n",
    "    \n",
    "def find_confusion_matrix(y, values):\n",
    "        \"\"\"\n",
    "        :param y: actual label\n",
    "        :param yhat: predicted label\n",
    "        :return: confusion matrix\n",
    "        \"\"\"\n",
    "        return confusion_matrix(y, values)\n",
    "\n",
    "def predict(x_test, y_test,w,n):\n",
    "    print('\\nTesting mnist using Discriminant Analysis')\n",
    "    values = []\n",
    "    for x in tqdm(x_test, total=len(x_test)):\n",
    "        g = []\n",
    "        x = x.flatten()\n",
    "        \n",
    "        for i in range(10):\n",
    "            \n",
    "            g.append(np.matmul((np.matmul(np.transpose(x), w[i])), x) + np.matmul(np.transpose(n[i]), x) + b[i])\n",
    "\n",
    "        g = np.asarray(g)\n",
    "        values.append(np.argmax(g))\n",
    "    print(values[0:10])\n",
    "    print(values[:10])\n",
    "    accuracy = find_accuracy(values, yhat)\n",
    "    confusion = find_confusion_matrix(y_test, values)\n",
    "\n",
    "    return accuracy, confusion"
   ]
  },
  {
   "cell_type": "code",
   "execution_count": null,
   "metadata": {
    "scrolled": true
   },
   "outputs": [],
   "source": [
    "acc, conf = predict(X_test,y_test,w,n)\n",
    "print(acc)\n",
    "print(conf)"
   ]
  },
  {
   "cell_type": "code",
   "execution_count": null,
   "metadata": {},
   "outputs": [],
   "source": []
  }
 ],
 "metadata": {
  "celltoolbar": "Edit Metadata",
  "kernelspec": {
   "display_name": "Python 3",
   "language": "python",
   "name": "python3"
  },
  "language_info": {
   "codemirror_mode": {
    "name": "ipython",
    "version": 3
   },
   "file_extension": ".py",
   "mimetype": "text/x-python",
   "name": "python",
   "nbconvert_exporter": "python",
   "pygments_lexer": "ipython3",
   "version": "3.6.5"
  }
 },
 "nbformat": 4,
 "nbformat_minor": 2
}
